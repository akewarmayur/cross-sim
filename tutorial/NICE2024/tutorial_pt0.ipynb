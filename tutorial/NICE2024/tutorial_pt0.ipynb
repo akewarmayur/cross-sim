{
 "cells": [
  {
   "cell_type": "code",
   "execution_count": 1,
   "metadata": {},
   "outputs": [],
   "source": [
    "# You may wish to create a new virtual environment for this tutorial. Eg:\n",
    "# conda create --name cstutorial\n",
    "# conda activate cstutorial\n",
    "# conda install pip"
   ]
  },
  {
   "cell_type": "code",
   "execution_count": 1,
   "metadata": {},
   "outputs": [],
   "source": [
    "# Install CrossSim\n",
    "# cd ~\n",
    "# git clone https://github.com/sandialabs/cross-sim\n",
    "# cd cross-sim\n",
    "# git switch pytorch\n",
    "# pip install -e .\n",
    "\n",
    "# Install Norse for Spiking Networks\n",
    "# cd ~ \n",
    "# git clone https://github.com/norse/norse\n",
    "# cd norse\n",
    "# pip install -e .\n",
    "\n",
    "# FSDD Data for demonstration\n",
    "# cd ~\n",
    "# git clone https://github.com/Jakobovski/free-spoken-digit-dataset\n",
    "\n",
    "# TorchVision for MNIST example\n",
    "# pip install torchvision\n",
    "\n",
    "# TQDM for monitoring\n",
    "# pip install tqdm"
   ]
  },
  {
   "cell_type": "code",
   "execution_count": null,
   "metadata": {},
   "outputs": [],
   "source": [
    "# Now process raw .wav files into 64 frequency bands by 64 time bins\n",
    "import sys\n",
    "import os\n",
    "\n",
    "datapath = os.path.expanduser('~/free-spoken-digit-dataset')\n",
    "sys.path.append(datapath + '/acquire_data/')\n",
    "sys.path.append(datapath + '/utils/')\n",
    "os.mkdir(datapath + '/spectrograms')\n",
    "\n",
    "from spectogramer import dir_to_spectrogram\n",
    "dir_to_spectrogram(datapath + '/recordings/', datapath + '/spectrograms/')"
   ]
  },
  {
   "cell_type": "code",
   "execution_count": null,
   "metadata": {},
   "outputs": [],
   "source": []
  }
 ],
 "metadata": {
  "kernelspec": {
   "display_name": "Python 3 (ipykernel)",
   "language": "python",
   "name": "python3"
  },
  "language_info": {
   "codemirror_mode": {
    "name": "ipython",
    "version": 3
   },
   "file_extension": ".py",
   "mimetype": "text/x-python",
   "name": "python",
   "nbconvert_exporter": "python",
   "pygments_lexer": "ipython3",
   "version": "3.11.6"
  }
 },
 "nbformat": 4,
 "nbformat_minor": 4
}
