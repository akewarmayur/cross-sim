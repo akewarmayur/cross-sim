{
 "cells": [
  {
   "cell_type": "markdown",
   "metadata": {},
   "source": [
    "# Part 2: From AnalogCore to Analog Torch Networks"
   ]
  },
  {
   "cell_type": "code",
   "execution_count": 1,
   "metadata": {},
   "outputs": [],
   "source": [
    "import torch\n",
    "import torch.nn.functional as F\n",
    "import numpy as np\n",
    "import matplotlib.pyplot as plt\n",
    "\n",
    "from simulator import AnalogCore\n",
    "from applications.mvm_params import set_params\n",
    "from tqdm import tqdm\n",
    "import pandas as pd\n",
    "\n",
    "from pathlib import Path"
   ]
  },
  {
   "cell_type": "code",
   "execution_count": 2,
   "metadata": {},
   "outputs": [],
   "source": [
    "# This section just creates MNIST dataloaders for use later in the notebook\n",
    "from torch.utils.data import Dataset, DataLoader, random_split\n",
    "import torchvision\n",
    "import os\n",
    "\n",
    "batch_size = 32\n",
    "basedir = os.path.expanduser('~/mnist')\n",
    "data = torchvision.datasets.MNIST(basedir, download=True, \n",
    "                                  transform=torchvision.transforms.ToTensor(),\n",
    "                                  target_transform=torchvision.transforms.Compose([\n",
    "                                    lambda x:torch.tensor([x]), \n",
    "                                    lambda x:F.one_hot(x,10).float(),\n",
    "                                    lambda x:x.squeeze(),\n",
    "                                    ]),\n",
    "                                  )\n",
    "\n",
    "ds_train, ds_val = random_split(data, [0.8, 0.2])\n",
    "\n",
    "loader_train = DataLoader(ds_train,\n",
    "                        batch_size=batch_size,\n",
    "                        shuffle=True,\n",
    "                        )\n",
    "\n",
    "\n",
    "loader_val = DataLoader(ds_val,\n",
    "                        batch_size=batch_size,\n",
    "                        shuffle=False)"
   ]
  },
  {
   "cell_type": "code",
   "execution_count": 3,
   "metadata": {},
   "outputs": [],
   "source": [
    "example_input, example_output = next(iter(loader_val))\n",
    "example_label = example_output.argmax(axis=-1)"
   ]
  },
  {
   "cell_type": "markdown",
   "metadata": {},
   "source": [
    "# 2.1: MLP in CrossSim from scratch\n",
    "\n",
    "Recall from the previous notebook that CrossSim's `AnalogCore` class will implement matrix-vector multiplications with a variable amount of nonlinearities. All that is required is to initialize the AnalogCore object, then utilize as you would any matrix. Eg:\n",
    "\n",
    "```python\n",
    "W = torch.rand(3*28*28, 1*28*28)\n",
    "params = set_params()\n",
    "xbar = AnalogCore(W, params=params)\n",
    "\n",
    "output = xbar @ x\n",
    "```\n",
    "\n",
    "This is the core structure required for a Linear layer of a neural network.\n",
    "One could implement neural networks using this type of interface. As an example, a multi-layer perceptron can be coded in vanilla numpy as :"
   ]
  },
  {
   "cell_type": "code",
   "execution_count": 4,
   "metadata": {},
   "outputs": [],
   "source": [
    "def relu(x):\n",
    "    return x * (x > 0)\n",
    "    \n",
    "def sigmoid(z):\n",
    "    return 1/(1 + np.exp(-z))\n",
    "\n",
    "class mlp:\n",
    "    def __init__(self,\n",
    "                 n_units,\n",
    "                 activation = None,\n",
    "                 weights = None\n",
    "                 ):\n",
    "        \n",
    "        if activation is None:\n",
    "            activation = [relu] * len(n_units)\n",
    "            activation[-1] = sigmoid\n",
    "            activation = tuple(activation)\n",
    "        self.activation = activation\n",
    "        \n",
    "        self.weights = list()\n",
    "        if weights is None:\n",
    "            for i in range(0, len(n_units)-1):\n",
    "                w = np.random.uniform(-1/np.sqrt(n_units[i]),\n",
    "                                      1/np.sqrt(n_units[i]), \n",
    "                                      size=(n_units[i+1], n_units[i]))\n",
    "                self.weights.append(w)\n",
    "        else:\n",
    "            for i in range(0, len(n_units)-1):\n",
    "                self.weights.append(weights[i])\n",
    "\n",
    "    def forward(self, x):\n",
    "        for n in range(0, len(self.weights)):\n",
    "                x = self.weights[n] @ x\n",
    "                x = self.activation[n](x)\n",
    "\n",
    "        return x"
   ]
  },
  {
   "cell_type": "markdown",
   "metadata": {},
   "source": [
    "To convert this to a CrossSim simulation, all we need to do is replace the weight matrices with analog core equivalents:"
   ]
  },
  {
   "cell_type": "code",
   "execution_count": 5,
   "metadata": {},
   "outputs": [],
   "source": [
    "class mlp_cs:\n",
    "    def __init__(self,\n",
    "                 n_units,\n",
    "                 xsim_params,       # <--- One additional argument\n",
    "                 activation = None,\n",
    "                 weights = None,\n",
    "                 ):\n",
    "        \n",
    "        if activation is None:\n",
    "            activation = [relu] * len(n_units)\n",
    "            activation[-1] = sigmoid\n",
    "            activation = tuple(activation)\n",
    "        self.activation = activation\n",
    "\n",
    "\n",
    "        self.weights = list()\n",
    "        if weights is None:\n",
    "            for i in range(0, len(n_units)-1):\n",
    "                w = np.random.uniform(-1/np.sqrt(n_units[i]),\n",
    "                                      1/np.sqrt(n_units[i]), \n",
    "                                      size=(n_units[i+1], n_units[i]))\n",
    "                w = AnalogCore(w, params=xsim_params) # <--- One line-change of code!\n",
    "                self.weights.append(w)\n",
    "        else:\n",
    "            for i in range(0, len(n_units)-1):\n",
    "                w = AnalogCore(weights[i], params=xsim_params) # <--- One line-change of code!\n",
    "                self.weights.append(w)\n",
    "\n",
    "\n",
    "    def forward(self, x):\n",
    "        for n in range(0, len(self.weights)):\n",
    "                x = self.weights[n] @ x\n",
    "                x = self.activation[n](x)\n",
    "\n",
    "        return x"
   ]
  },
  {
   "cell_type": "markdown",
   "metadata": {},
   "source": [
    "The mlp class takes in a tuple of sizes, the same as torch.nn.Linear, and implements the linear layers as AnalogCore multiplications. \n",
    "\n",
    "Similar to torch.nn.Sequential, we have implemented mlp.forward() to call each analog linear layer in series. Inference could then be run as normal. \n",
    "We can demonstrate that the CrossSim solution gives similar results as the digital implementation by running both versions with the same pre-defined weights"
   ]
  },
  {
   "cell_type": "code",
   "execution_count": 6,
   "metadata": {},
   "outputs": [],
   "source": [
    "cs_params = set_params()\n",
    "cs_params.xbar.device.cell_bits = 1                      # Quantized Weights\n",
    "cs_params.xbar.device.programming_error.model = 'SONOS'  # Experimentally defined write errors\n",
    "cs_params.xbar.device.programming_error.enable = True    # SONOS \n",
    "cs_params.simulation.convolution.conv_matmul = True      # Digital acceleration for batched convolutions."
   ]
  },
  {
   "cell_type": "code",
   "execution_count": 7,
   "metadata": {},
   "outputs": [
    {
     "data": {
      "text/plain": [
       "[<matplotlib.lines.Line2D at 0x351426ba0>]"
      ]
     },
     "execution_count": 7,
     "metadata": {},
     "output_type": "execute_result"
    },
    {
     "data": {
      "image/png": "[encoded data removed]",
      "text/plain": [
       "<Figure size 640x480 with 1 Axes>"
      ]
     },
     "metadata": {},
     "output_type": "display_data"
    }
   ],
   "source": [
    "n_units = [1*28*28, 3*28*28, 100, 10]\n",
    "weights = list()\n",
    "for i in range(0, len(n_units)-1):\n",
    "    w = np.random.uniform(-1/np.sqrt(n_units[i]),\n",
    "                          1/np.sqrt(n_units[i]), \n",
    "                          size=(n_units[i+1], n_units[i]))\n",
    "    weights.append(w)\n",
    "    \n",
    "net = mlp(n_units, weights=weights)\n",
    "net_cs = mlp_cs(n_units, weights=weights, xsim_params=cs_params)\n",
    "\n",
    "x = np.random.rand(1*28*28)\n",
    "\n",
    "pred_np = net.forward(x)\n",
    "pred_cs = net_cs.forward(x)\n",
    "\n",
    "plt.plot(pred_np)\n",
    "plt.plot(pred_cs)"
   ]
  },
  {
   "cell_type": "markdown",
   "metadata": {},
   "source": [
    "In principle, one could re-implement all torch.nn layers using this approach. \n",
    "However, this would require manual implementations and would not enable learning. \n",
    "In the next two sections we show how to utilize pre-defined drop-in Analog replacements for a subset of layers"
   ]
  },
  {
   "cell_type": "markdown",
   "metadata": {},
   "source": [
    "# 2.2: Torch --> CrossSim Conversion\n",
    "Rather than implementing layers directly with AnalogCore, we can utilize the `simulator.algorithms.dnn.torch` interface to directly convert PyTorch networks, and CrossSim will convert them to AnalogCore behind the scenes.\n",
    "\n",
    "We first define and evaluate a simple pre-trained MNIST network:"
   ]
  },
  {
   "cell_type": "code",
   "execution_count": 8,
   "metadata": {},
   "outputs": [],
   "source": [
    "# Network structure and training information for all networks\n",
    "n_chans = [1, 8, 16]\n",
    "n_units = [28*28*16, 100, 10]\n",
    "n_epochs = 20\n",
    "retrain = False\n",
    "# If false, will load pretrained networks and training curves, to avoid burning out laptops"
   ]
  },
  {
   "cell_type": "markdown",
   "metadata": {},
   "source": [
    "We first create a random CNN, load weights from a pretrained network, and evaluate the network accuracy"
   ]
  },
  {
   "cell_type": "code",
   "execution_count": 9,
   "metadata": {},
   "outputs": [
    {
     "name": "stdout",
     "output_type": "stream",
     "text": [
      "tensor(1.)\n",
      "tensor(4.7719e-06, grad_fn=<DivBackward1>)\n"
     ]
    }
   ],
   "source": [
    "net_pt = torch.nn.Sequential(\n",
    "    torch.nn.Conv2d(n_chans[0], n_chans[1], 3, padding='same'),\n",
    "    torch.nn.ReLU(),\n",
    "    # ----\n",
    "    torch.nn.Conv2d(n_chans[1], n_chans[2], 3, padding='same'),\n",
    "    torch.nn.ReLU(),\n",
    "    # ----\n",
    "    torch.nn.Flatten(),\n",
    "    torch.nn.Linear(n_units[0], n_units[1]),\n",
    "    # ----\n",
    "    torch.nn.ReLU(), \n",
    "    torch.nn.Linear(n_units[1], n_units[2]),\n",
    ")\n",
    "\n",
    "ckpt = torch.load('./logs/mnist_pt/net.pt', map_location='cpu')\n",
    "net_pt.load_state_dict(ckpt['state_dict'])\n",
    "\n",
    "pred = net_pt(example_input)\n",
    "pred_label = pred.argmax(axis=-1)\n",
    "\n",
    "loss = torch.nn.functional.cross_entropy(pred, example_output)\n",
    "\n",
    "accuracy = (pred_label == example_label).sum() / batch_size\n",
    "print(accuracy)\n",
    "print(loss)"
   ]
  },
  {
   "cell_type": "markdown",
   "metadata": {},
   "source": [
    "We can now convert the pretrained network into a CrossSim equivelant"
   ]
  },
  {
   "cell_type": "code",
   "execution_count": 10,
   "metadata": {},
   "outputs": [
    {
     "data": {
      "text/plain": [
       "[Conv2d(1, 8, kernel_size=(3, 3), stride=(1, 1), padding=same),\n",
       " Conv2d(8, 16, kernel_size=(3, 3), stride=(1, 1), padding=same),\n",
       " Linear(in_features=12544, out_features=100, bias=True),\n",
       " Linear(in_features=100, out_features=10, bias=True)]"
      ]
     },
     "execution_count": 10,
     "metadata": {},
     "output_type": "execute_result"
    }
   ],
   "source": [
    "from simulator import CrossSimParameters\n",
    "from simulator.algorithms.dnn.torch.convert import from_torch, convertible_modules\n",
    "\n",
    "cs_params = CrossSimParameters()\n",
    "cs_params.xbar.device.cell_bits = 4                     # Quantized Weights\n",
    "cs_params.xbar.device.programming_error.model = 'SONOS'  # Experimentally defined write errors\n",
    "cs_params.xbar.device.programming_error.enable = True    # SONOS \n",
    "cs_params.simulation.convolution.conv_matmul = True      # Digital acceleration for batched convolutions.\n",
    "cs_params.xbar.adc.mvm.calibrated_range = [-1,1]         # Calibrate ADC buckets based on expected values\n",
    "cs_params.xbar.adc.mvm.bits = 4                          # 16-level ADC\n",
    "cs_params.xbar.adc.mvm.model = 'QuantizerADC'            # Simple quantizeation\n",
    "\n",
    "convertible_modules(net_pt)"
   ]
  },
  {
   "cell_type": "markdown",
   "metadata": {},
   "source": [
    "The output of convertible_modules tells us which layers will be converted into their AnalogLayer equivelant"
   ]
  },
  {
   "cell_type": "code",
   "execution_count": 11,
   "metadata": {},
   "outputs": [
    {
     "name": "stdout",
     "output_type": "stream",
     "text": [
      "Sequential(\n",
      "  (0): AnalogConv2d(1, 8, kernel_size=(3, 3), stride=(1, 1), padding=same)\n",
      "  (1): ReLU()\n",
      "  (2): AnalogConv2d(8, 16, kernel_size=(3, 3), stride=(1, 1), padding=same)\n",
      "  (3): ReLU()\n",
      "  (4): Flatten(start_dim=1, end_dim=-1)\n",
      "  (5): AnalogLinear(in_features=12544, out_features=100, bias=True)\n",
      "  (6): ReLU()\n",
      "  (7): AnalogLinear(in_features=100, out_features=10, bias=True)\n",
      ")\n"
     ]
    }
   ],
   "source": [
    "net_cn = from_torch(net_pt, cs_params)\n",
    "print(net_cn)\n",
    "# \"net converted\""
   ]
  },
  {
   "cell_type": "markdown",
   "metadata": {},
   "source": [
    "Note that the convolutional and linear layers have been replaced with AnalogLayer equivelants. These layers will now utilize an AnalogCore, as defined by the cs_params, during inference."
   ]
  },
  {
   "cell_type": "code",
   "execution_count": 12,
   "metadata": {},
   "outputs": [
    {
     "name": "stdout",
     "output_type": "stream",
     "text": [
      "tensor(0.8750)\n",
      "tensor(1.1546, grad_fn=<DivBackward1>)\n"
     ]
    }
   ],
   "source": [
    "pred = net_cn(example_input)\n",
    "pred_label = pred.argmax(axis=-1)\n",
    "accuracy = (pred_label == example_label).sum() / 32\n",
    "\n",
    "loss_con = torch.nn.functional.cross_entropy(pred, example_output)\n",
    "\n",
    "print(accuracy)\n",
    "print(loss_con)"
   ]
  },
  {
   "cell_type": "markdown",
   "metadata": {},
   "source": [
    "There is a *post training conversion accuracy decrease* of approximately 3.2%, and corresponding loss increase of 0.86. \n",
    "While this is change in accuracy is minor, the increase in error can be substantially higher in more difficult tasks. \n",
    "\n",
    "In the next section we will implement CrossSim in the loop training, which trains in a hardware-aware manner to avoid these losses in performance."
   ]
  },
  {
   "cell_type": "markdown",
   "metadata": {},
   "source": [
    "# 2.3 CrossSim in the Loop Training"
   ]
  },
  {
   "cell_type": "markdown",
   "metadata": {},
   "source": [
    "AnalogLayers have been designed such that the forward pass uses an AnalogCore during forward (ie: inference) pass, but provide an idealized (\"pass through\") and differentiable trace during the backwards pass. \n",
    "This means that, to the extent the idealized operation matches the true AnalogCore forward pass, we can perform surrogate gradient descent.\n",
    "This can allow a network to adapt to these non-idealities and recover some of the performance that would be lost from post-training conversion."
   ]
  },
  {
   "cell_type": "markdown",
   "metadata": {},
   "source": [
    "![](figs/surrogate.png)"
   ]
  },
  {
   "cell_type": "markdown",
   "metadata": {},
   "source": [
    "To demonstrate this functionality, we first define and train a PyTorch network:"
   ]
  },
  {
   "cell_type": "code",
   "execution_count": 13,
   "metadata": {},
   "outputs": [],
   "source": [
    "class SequentialWrapper():\n",
    "    def __init__(self, net, loss, learning_rate=1e-3, last_only=False):\n",
    "        self.net = net\n",
    "        self.loss = loss\n",
    "        self.learning_rate = learning_rate\n",
    "        self.optimizer = torch.optim.Adam(self.net.parameters(), lr=self.learning_rate)\n",
    "\n",
    "    def forward(self, x):\n",
    "        out = self.net(x)\n",
    "        return out\n",
    "    \n",
    "    def training_step(self, batch):\n",
    "        self.optimizer.zero_grad()\n",
    "\n",
    "        pred = self.forward(batch[0])\n",
    "        loss = self.loss(pred, batch[1])\n",
    "\n",
    "        loss.backward()\n",
    "        self.optimizer.step()\n",
    "        return loss\n",
    "\n",
    "    def validation_step(self, batch):\n",
    "        pred = self.forward(batch[0])\n",
    "        loss = self.loss(pred, batch[1])\n",
    "        return loss\n",
    "    \n",
    "    def train_epoch(self, train_loader, val_loader):\n",
    "        loss_train = 0\n",
    "        for minibatch in iter(train_loader):\n",
    "            loss_train += self.training_step(minibatch).detach()\n",
    "\n",
    "        loss_val = 0\n",
    "        for minibatch in iter(val_loader):\n",
    "            loss_val += self.validation_step(minibatch).detach()\n",
    "\n",
    "        return loss_train/len(train_loader), loss_val/len(val_loader)\n",
    "    \n",
    "    def train(self, train_loader, val_loader, epochs, name):\n",
    "        loss_train = np.zeros(epochs)\n",
    "        loss_val = np.zeros(epochs)\n",
    "\n",
    "        for e in tqdm(range(0, epochs)):\n",
    "            lt, lv = self.train_epoch(train_loader, val_loader)\n",
    "            loss_train[e] = lt\n",
    "            loss_val[e] = lv\n",
    "\n",
    "        Path('./logs/' + name).mkdir(parents=True, exist_ok=True)\n",
    "        np.save('./logs/' + name + '/loss_train', loss_train)\n",
    "        np.save('./logs/' + name + '/loss_val', loss_val)\n",
    "        torch.save(\n",
    "            {'state_dict': self.net.state_dict()},\n",
    "            './logs/' + name + '/net.pt')\n",
    "        \n",
    "        return loss_train, loss_val"
   ]
  },
  {
   "cell_type": "code",
   "execution_count": 14,
   "metadata": {},
   "outputs": [],
   "source": [
    "net_pt = torch.nn.Sequential(\n",
    "    torch.nn.Conv2d(n_chans[0], n_chans[1], 3, padding='same'),\n",
    "    torch.nn.ReLU(),\n",
    "    # ----\n",
    "    torch.nn.Conv2d(n_chans[1], n_chans[2], 3, padding='same'),\n",
    "    torch.nn.ReLU(),\n",
    "    # ----\n",
    "    torch.nn.Flatten(),\n",
    "    torch.nn.Linear(n_units[0], n_units[1]),\n",
    "    # ----\n",
    "    torch.nn.ReLU(), \n",
    "    torch.nn.Linear(n_units[1], n_units[2]),\n",
    ")\n",
    "\n",
    "model_pt = SequentialWrapper(net_pt, torch.nn.CrossEntropyLoss())\n",
    "\n",
    "if retrain:\n",
    "    loss_train_pt, loss_val_pt = model_pt.train(loader_train, loader_val, n_epochs,'mnist_pt')\n",
    "else:\n",
    "    loss_train_pt =  np.load('./logs/mnist_pt/loss_train.npy')\n",
    "    loss_val_pt = np.load('./logs/mnist_pt/loss_val.npy')\n",
    "    ckpt = torch.load('./logs/mnist_pt/net.pt', map_location='cpu')\n",
    "    model_pt.net.load_state_dict(ckpt['state_dict'])"
   ]
  },
  {
   "cell_type": "markdown",
   "metadata": {},
   "source": [
    "We can next check which layers of the network are eligible for automatic conversion to AnalogLayers"
   ]
  },
  {
   "cell_type": "code",
   "execution_count": 15,
   "metadata": {},
   "outputs": [
    {
     "data": {
      "text/plain": [
       "[Conv2d(1, 8, kernel_size=(3, 3), stride=(1, 1), padding=same),\n",
       " Conv2d(8, 16, kernel_size=(3, 3), stride=(1, 1), padding=same),\n",
       " Linear(in_features=12544, out_features=100, bias=True),\n",
       " Linear(in_features=100, out_features=10, bias=True)]"
      ]
     },
     "execution_count": 15,
     "metadata": {},
     "output_type": "execute_result"
    }
   ],
   "source": [
    "convertible_modules(net_pt)"
   ]
  },
  {
   "cell_type": "markdown",
   "metadata": {},
   "source": [
    "Here `convertible_modules` tells us that the convolutional weights and linear weights are all able to be converted automatically. \n",
    "We can convert these using `from_torch`, passing an appropriate CrossSim parameter set."
   ]
  },
  {
   "cell_type": "code",
   "execution_count": 16,
   "metadata": {},
   "outputs": [],
   "source": [
    "# Create a new network, so that we are training from scratch\n",
    "net_cs = torch.nn.Sequential(\n",
    "    torch.nn.Conv2d(n_chans[0], n_chans[1], 3, padding='same'),\n",
    "    torch.nn.ReLU(),\n",
    "    # ----\n",
    "    torch.nn.Conv2d(n_chans[1], n_chans[2], 3, padding='same'),\n",
    "    torch.nn.ReLU(),\n",
    "    # ----\n",
    "    torch.nn.Flatten(),\n",
    "    torch.nn.Linear(n_units[0], n_units[1]),\n",
    "    # ----\n",
    "    torch.nn.ReLU(), \n",
    "    torch.nn.Linear(n_units[1], n_units[2]),\n",
    ")\n",
    "\n",
    "net_cs = from_torch(net_cs, cs_params)"
   ]
  },
  {
   "cell_type": "markdown",
   "metadata": {},
   "source": [
    "One slight change is that during training we must explicitly synchronize changes from PyTorch optimizer steps to the AnalogLayers after each optimization step, so we introduce a new wrapper class"
   ]
  },
  {
   "cell_type": "code",
   "execution_count": 17,
   "metadata": {},
   "outputs": [],
   "source": [
    "from simulator.algorithms.dnn.torch.convert import synchronize\n",
    "\n",
    "class SequentialCSWrapper(SequentialWrapper):\n",
    "    def __init__(self, net, loss, learning_rate=1e-3):\n",
    "        super().__init__(net, loss, learning_rate)\n",
    "        \n",
    "    def training_step(self, batch):\n",
    "        self.optimizer.zero_grad()\n",
    "\n",
    "        pred = self.forward(batch[0])\n",
    "        loss = self.loss(pred, batch[1])\n",
    "\n",
    "        loss.backward()\n",
    "        self.optimizer.step()\n",
    "        synchronize(self.net)  # <--- The only changed line in all of training!\n",
    "        return loss\n",
    "\n",
    "model_cs = SequentialCSWrapper(net_cs, torch.nn.CrossEntropyLoss())"
   ]
  },
  {
   "cell_type": "code",
   "execution_count": 18,
   "metadata": {},
   "outputs": [],
   "source": [
    "if retrain:\n",
    "    loss_train_cs, loss_val_cs = model_cs.train(loader_train, loader_val, n_epochs, 'mnist_cs')\n",
    "else:\n",
    "    loss_train_cs =  np.load('./logs/mnist_cs/loss_train.npy')\n",
    "    loss_val_cs = np.load('./logs/mnist_cs/loss_val.npy')\n",
    "    ckpt = torch.load('./logs/mnist_cs/net.pt', map_location='cpu')\n",
    "    #model_cs.net.load_state_dict(ckpt['state_dict'])"
   ]
  },
  {
   "cell_type": "markdown",
   "metadata": {},
   "source": [
    "# Evaluation:\n",
    "We can now evaluate the training curves for the vanilla Pytorch network, compared to the Analog simulations:"
   ]
  },
  {
   "cell_type": "code",
   "execution_count": 19,
   "metadata": {},
   "outputs": [
    {
     "data": {
      "text/plain": [
       "Text(0, 0.5, 'Loss (Cross Entopy)')"
      ]
     },
     "execution_count": 19,
     "metadata": {},
     "output_type": "execute_result"
    },
    {
     "data": {
      "image/png": "[encoded data removed]",
      "text/plain": [
       "<Figure size 640x480 with 1 Axes>"
      ]
     },
     "metadata": {},
     "output_type": "display_data"
    }
   ],
   "source": [
    "plt.plot(loss_train_pt,'blue')\n",
    "plt.plot(loss_train_cs,'orange')\n",
    "plt.ylim([0,0.05])\n",
    "plt.hlines(loss_con.detach(), 0, 20)\n",
    "\n",
    "plt.legend(['PyTorch','CrossSim','Conversion Error (~0.8)'])\n",
    "plt.xlabel('Epoch')\n",
    "plt.ylabel('Loss (Cross Entopy)')\n"
   ]
  },
  {
   "cell_type": "markdown",
   "metadata": {},
   "source": [
    "The final performance of both networks is similar, even though we have implemented write errors into the memristive device and utilized 8-bit quantization of activities. \n",
    "\n",
    "In the next notebook we will show how to use these same principles to implement analog recurrent neural networks and analog spiking networks."
   ]
  }
 ],
 "metadata": {
  "kernelspec": {
   "display_name": "Python 3 (ipykernel)",
   "language": "python",
   "name": "python3"
  },
  "language_info": {
   "codemirror_mode": {
    "name": "ipython",
    "version": 3
   },
   "file_extension": ".py",
   "mimetype": "text/x-python",
   "name": "python",
   "nbconvert_exporter": "python",
   "pygments_lexer": "ipython3",
   "version": "3.12.3"
  }
 },
 "nbformat": 4,
 "nbformat_minor": 4
}
